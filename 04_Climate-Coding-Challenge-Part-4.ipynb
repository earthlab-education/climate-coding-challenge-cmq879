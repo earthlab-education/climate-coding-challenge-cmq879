{
  "cells": [
    {
      "cell_type": "markdown",
      "id": "5dedcedb-5dc1-4e4c-8b2a-c4b727a1b6ba",
      "metadata": {},
      "source": [
        "# Part 4: Plot your results\n",
        "\n",
        "First things first – make sure to load the climate `DataFrame` you\n",
        "stored in the previous notebooks using Jupyter cell magic:"
      ]
    },
    {
      "cell_type": "code",
      "execution_count": 1,
      "id": "575469b7",
      "metadata": {},
      "outputs": [],
      "source": [
        "# Load all stored variables\n",
        "%store -r"
      ]
    },
    {
      "cell_type": "markdown",
      "id": "2bdb9714-d2a9-4128-a174-a0ef7409b7fb",
      "metadata": {},
      "source": [
        "You’ll also need some libraries later on. This is an extension to\n",
        "`pandas` that will allow you to easily make beautiful, interactive\n",
        "plots, and a related library that will let you save your plots:"
      ]
    },
    {
      "cell_type": "code",
      "execution_count": 2,
      "id": "c09c8e24",
      "metadata": {},
      "outputs": [
        {
          "data": {
            "application/javascript": "(function(root) {\n  function now() {\n    return new Date();\n  }\n\n  var force = true;\n  var py_version = '3.2.2'.replace('rc', '-rc.').replace('.dev', '-dev.');\n  var is_dev = py_version.indexOf(\"+\") !== -1 || py_version.indexOf(\"-\") !== -1;\n  var reloading = false;\n  var Bokeh = root.Bokeh;\n  var bokeh_loaded = Bokeh != null && (Bokeh.version === py_version || (Bokeh.versions !== undefined && Bokeh.versions.has(py_version)));\n\n  if (typeof (root._bokeh_timeout) === \"undefined\" || force) {\n    root._bokeh_timeout = Date.now() + 5000;\n    root._bokeh_failed_load = false;\n  }\n\n  function run_callbacks() {\n    try {\n      root._bokeh_onload_callbacks.forEach(function(callback) {\n        if (callback != null)\n          callback();\n      });\n    } finally {\n      delete root._bokeh_onload_callbacks;\n    }\n    console.debug(\"Bokeh: all callbacks have finished\");\n  }\n\n  function load_libs(css_urls, js_urls, js_modules, js_exports, callback) {\n    if (css_urls == null) css_urls = [];\n    if (js_urls == null) js_urls = [];\n    if (js_modules == null) js_modules = [];\n    if (js_exports == null) js_exports = {};\n\n    root._bokeh_onload_callbacks.push(callback);\n\n    if (root._bokeh_is_loading > 0) {\n      console.debug(\"Bokeh: BokehJS is being loaded, scheduling callback at\", now());\n      return null;\n    }\n    if (js_urls.length === 0 && js_modules.length === 0 && Object.keys(js_exports).length === 0) {\n      run_callbacks();\n      return null;\n    }\n    if (!reloading) {\n      console.debug(\"Bokeh: BokehJS not loaded, scheduling load and callback at\", now());\n    }\n\n    function on_load() {\n      root._bokeh_is_loading--;\n      if (root._bokeh_is_loading === 0) {\n        console.debug(\"Bokeh: all BokehJS libraries/stylesheets loaded\");\n        run_callbacks()\n      }\n    }\n    window._bokeh_on_load = on_load\n\n    function on_error() {\n      console.error(\"failed to load \" + url);\n    }\n\n    var skip = [];\n    if (window.requirejs) {\n      window.requirejs.config({'packages': {}, 'paths': {'jspanel': 'https://cdn.jsdelivr.net/npm/jspanel4@4.12.0/dist/jspanel', 'jspanel-modal': 'https://cdn.jsdelivr.net/npm/jspanel4@4.12.0/dist/extensions/modal/jspanel.modal', 'jspanel-tooltip': 'https://cdn.jsdelivr.net/npm/jspanel4@4.12.0/dist/extensions/tooltip/jspanel.tooltip', 'jspanel-hint': 'https://cdn.jsdelivr.net/npm/jspanel4@4.12.0/dist/extensions/hint/jspanel.hint', 'jspanel-layout': 'https://cdn.jsdelivr.net/npm/jspanel4@4.12.0/dist/extensions/layout/jspanel.layout', 'jspanel-contextmenu': 'https://cdn.jsdelivr.net/npm/jspanel4@4.12.0/dist/extensions/contextmenu/jspanel.contextmenu', 'jspanel-dock': 'https://cdn.jsdelivr.net/npm/jspanel4@4.12.0/dist/extensions/dock/jspanel.dock', 'gridstack': 'https://cdn.jsdelivr.net/npm/gridstack@7.2.3/dist/gridstack-all', 'notyf': 'https://cdn.jsdelivr.net/npm/notyf@3/notyf.min'}, 'shim': {'jspanel': {'exports': 'jsPanel'}, 'gridstack': {'exports': 'GridStack'}}});\n      require([\"jspanel\"], function(jsPanel) {\n\twindow.jsPanel = jsPanel\n\ton_load()\n      })\n      require([\"jspanel-modal\"], function() {\n\ton_load()\n      })\n      require([\"jspanel-tooltip\"], function() {\n\ton_load()\n      })\n      require([\"jspanel-hint\"], function() {\n\ton_load()\n      })\n      require([\"jspanel-layout\"], function() {\n\ton_load()\n      })\n      require([\"jspanel-contextmenu\"], function() {\n\ton_load()\n      })\n      require([\"jspanel-dock\"], function() {\n\ton_load()\n      })\n      require([\"gridstack\"], function(GridStack) {\n\twindow.GridStack = GridStack\n\ton_load()\n      })\n      require([\"notyf\"], function() {\n\ton_load()\n      })\n      root._bokeh_is_loading = css_urls.length + 9;\n    } else {\n      root._bokeh_is_loading = css_urls.length + js_urls.length + js_modules.length + Object.keys(js_exports).length;\n    }\n\n    var existing_stylesheets = []\n    var links = document.getElementsByTagName('link')\n    for (var i = 0; i < links.length; i++) {\n      var link = links[i]\n      if (link.href != null) {\n\texisting_stylesheets.push(link.href)\n      }\n    }\n    for (var i = 0; i < css_urls.length; i++) {\n      var url = css_urls[i];\n      if (existing_stylesheets.indexOf(url) !== -1) {\n\ton_load()\n\tcontinue;\n      }\n      const element = document.createElement(\"link\");\n      element.onload = on_load;\n      element.onerror = on_error;\n      element.rel = \"stylesheet\";\n      element.type = \"text/css\";\n      element.href = url;\n      console.debug(\"Bokeh: injecting link tag for BokehJS stylesheet: \", url);\n      document.body.appendChild(element);\n    }    if (((window['jsPanel'] !== undefined) && (!(window['jsPanel'] instanceof HTMLElement))) || window.requirejs) {\n      var urls = ['https://cdn.holoviz.org/panel/1.2.1/dist/bundled/floatpanel/jspanel4@4.12.0/dist/jspanel.js', 'https://cdn.holoviz.org/panel/1.2.1/dist/bundled/floatpanel/jspanel4@4.12.0/dist/extensions/modal/jspanel.modal.js', 'https://cdn.holoviz.org/panel/1.2.1/dist/bundled/floatpanel/jspanel4@4.12.0/dist/extensions/tooltip/jspanel.tooltip.js', 'https://cdn.holoviz.org/panel/1.2.1/dist/bundled/floatpanel/jspanel4@4.12.0/dist/extensions/hint/jspanel.hint.js', 'https://cdn.holoviz.org/panel/1.2.1/dist/bundled/floatpanel/jspanel4@4.12.0/dist/extensions/layout/jspanel.layout.js', 'https://cdn.holoviz.org/panel/1.2.1/dist/bundled/floatpanel/jspanel4@4.12.0/dist/extensions/contextmenu/jspanel.contextmenu.js', 'https://cdn.holoviz.org/panel/1.2.1/dist/bundled/floatpanel/jspanel4@4.12.0/dist/extensions/dock/jspanel.dock.js'];\n      for (var i = 0; i < urls.length; i++) {\n        skip.push(urls[i])\n      }\n    }    if (((window['GridStack'] !== undefined) && (!(window['GridStack'] instanceof HTMLElement))) || window.requirejs) {\n      var urls = ['https://cdn.holoviz.org/panel/1.2.1/dist/bundled/gridstack/gridstack@7.2.3/dist/gridstack-all.js'];\n      for (var i = 0; i < urls.length; i++) {\n        skip.push(urls[i])\n      }\n    }    if (((window['Notyf'] !== undefined) && (!(window['Notyf'] instanceof HTMLElement))) || window.requirejs) {\n      var urls = ['https://cdn.holoviz.org/panel/1.2.1/dist/bundled/notificationarea/notyf@3/notyf.min.js'];\n      for (var i = 0; i < urls.length; i++) {\n        skip.push(urls[i])\n      }\n    }    var existing_scripts = []\n    var scripts = document.getElementsByTagName('script')\n    for (var i = 0; i < scripts.length; i++) {\n      var script = scripts[i]\n      if (script.src != null) {\n\texisting_scripts.push(script.src)\n      }\n    }\n    for (var i = 0; i < js_urls.length; i++) {\n      var url = js_urls[i];\n      if (skip.indexOf(url) !== -1 || existing_scripts.indexOf(url) !== -1) {\n\tif (!window.requirejs) {\n\t  on_load();\n\t}\n\tcontinue;\n      }\n      var element = document.createElement('script');\n      element.onload = on_load;\n      element.onerror = on_error;\n      element.async = false;\n      element.src = url;\n      console.debug(\"Bokeh: injecting script tag for BokehJS library: \", url);\n      document.head.appendChild(element);\n    }\n    for (var i = 0; i < js_modules.length; i++) {\n      var url = js_modules[i];\n      if (skip.indexOf(url) !== -1 || existing_scripts.indexOf(url) !== -1) {\n\tif (!window.requirejs) {\n\t  on_load();\n\t}\n\tcontinue;\n      }\n      var element = document.createElement('script');\n      element.onload = on_load;\n      element.onerror = on_error;\n      element.async = false;\n      element.src = url;\n      element.type = \"module\";\n      console.debug(\"Bokeh: injecting script tag for BokehJS library: \", url);\n      document.head.appendChild(element);\n    }\n    for (const name in js_exports) {\n      var url = js_exports[name];\n      if (skip.indexOf(url) >= 0 || root[name] != null) {\n\tif (!window.requirejs) {\n\t  on_load();\n\t}\n\tcontinue;\n      }\n      var element = document.createElement('script');\n      element.onerror = on_error;\n      element.async = false;\n      element.type = \"module\";\n      console.debug(\"Bokeh: injecting script tag for BokehJS library: \", url);\n      element.textContent = `\n      import ${name} from \"${url}\"\n      window.${name} = ${name}\n      window._bokeh_on_load()\n      `\n      document.head.appendChild(element);\n    }\n    if (!js_urls.length && !js_modules.length) {\n      on_load()\n    }\n  };\n\n  function inject_raw_css(css) {\n    const element = document.createElement(\"style\");\n    element.appendChild(document.createTextNode(css));\n    document.body.appendChild(element);\n  }\n\n  var js_urls = [\"https://cdn.bokeh.org/bokeh/release/bokeh-3.2.2.min.js\", \"https://cdn.bokeh.org/bokeh/release/bokeh-gl-3.2.2.min.js\", \"https://cdn.bokeh.org/bokeh/release/bokeh-widgets-3.2.2.min.js\", \"https://cdn.bokeh.org/bokeh/release/bokeh-tables-3.2.2.min.js\", \"https://cdn.holoviz.org/panel/1.2.1/dist/panel.min.js\"];\n  var js_modules = [];\n  var js_exports = {};\n  var css_urls = [];\n  var inline_js = [    function(Bokeh) {\n      Bokeh.set_log_level(\"info\");\n    },\nfunction(Bokeh) {} // ensure no trailing comma for IE\n  ];\n\n  function run_inline_js() {\n    if ((root.Bokeh !== undefined) || (force === true)) {\n      for (var i = 0; i < inline_js.length; i++) {\n        inline_js[i].call(root, root.Bokeh);\n      }\n      // Cache old bokeh versions\n      if (Bokeh != undefined && !reloading) {\n\tvar NewBokeh = root.Bokeh;\n\tif (Bokeh.versions === undefined) {\n\t  Bokeh.versions = new Map();\n\t}\n\tif (NewBokeh.version !== Bokeh.version) {\n\t  Bokeh.versions.set(NewBokeh.version, NewBokeh)\n\t}\n\troot.Bokeh = Bokeh;\n      }} else if (Date.now() < root._bokeh_timeout) {\n      setTimeout(run_inline_js, 100);\n    } else if (!root._bokeh_failed_load) {\n      console.log(\"Bokeh: BokehJS failed to load within specified timeout.\");\n      root._bokeh_failed_load = true;\n    }\n    root._bokeh_is_initializing = false\n  }\n\n  function load_or_wait() {\n    // Implement a backoff loop that tries to ensure we do not load multiple\n    // versions of Bokeh and its dependencies at the same time.\n    // In recent versions we use the root._bokeh_is_initializing flag\n    // to determine whether there is an ongoing attempt to initialize\n    // bokeh, however for backward compatibility we also try to ensure\n    // that we do not start loading a newer (Panel>=1.0 and Bokeh>3) version\n    // before older versions are fully initialized.\n    if (root._bokeh_is_initializing && Date.now() > root._bokeh_timeout) {\n      root._bokeh_is_initializing = false;\n      root._bokeh_onload_callbacks = undefined;\n      console.log(\"Bokeh: BokehJS was loaded multiple times but one version failed to initialize.\");\n      load_or_wait();\n    } else if (root._bokeh_is_initializing || (typeof root._bokeh_is_initializing === \"undefined\" && root._bokeh_onload_callbacks !== undefined)) {\n      setTimeout(load_or_wait, 100);\n    } else {\n      Bokeh = root.Bokeh;\n      bokeh_loaded = Bokeh != null && (Bokeh.version === py_version || (Bokeh.versions !== undefined && Bokeh.versions.has(py_version)));\n      root._bokeh_is_initializing = true\n      root._bokeh_onload_callbacks = []\n      if (!reloading && (!bokeh_loaded || is_dev)) {\n\troot.Bokeh = undefined;\n      }\n      load_libs(css_urls, js_urls, js_modules, js_exports, function() {\n\tconsole.debug(\"Bokeh: BokehJS plotting callback run at\", now());\n\trun_inline_js();\n      });\n    }\n  }\n  // Give older versions of the autoload script a head-start to ensure\n  // they initialize before we start loading newer version.\n  setTimeout(load_or_wait, 100)\n}(window));",
            "application/vnd.holoviews_load.v0+json": ""
          },
          "metadata": {},
          "output_type": "display_data"
        },
        {
          "data": {
            "application/javascript": "\nif ((window.PyViz === undefined) || (window.PyViz instanceof HTMLElement)) {\n  window.PyViz = {comms: {}, comm_status:{}, kernels:{}, receivers: {}, plot_index: []}\n}\n\n\n    function JupyterCommManager() {\n    }\n\n    JupyterCommManager.prototype.register_target = function(plot_id, comm_id, msg_handler) {\n      if (window.comm_manager || ((window.Jupyter !== undefined) && (Jupyter.notebook.kernel != null))) {\n        var comm_manager = window.comm_manager || Jupyter.notebook.kernel.comm_manager;\n        comm_manager.register_target(comm_id, function(comm) {\n          comm.on_msg(msg_handler);\n        });\n      } else if ((plot_id in window.PyViz.kernels) && (window.PyViz.kernels[plot_id])) {\n        window.PyViz.kernels[plot_id].registerCommTarget(comm_id, function(comm) {\n          comm.onMsg = msg_handler;\n        });\n      } else if (typeof google != 'undefined' && google.colab.kernel != null) {\n        google.colab.kernel.comms.registerTarget(comm_id, (comm) => {\n          var messages = comm.messages[Symbol.asyncIterator]();\n          function processIteratorResult(result) {\n            var message = result.value;\n            console.log(message)\n            var content = {data: message.data, comm_id};\n            var buffers = []\n            for (var buffer of message.buffers || []) {\n              buffers.push(new DataView(buffer))\n            }\n            var metadata = message.metadata || {};\n            var msg = {content, buffers, metadata}\n            msg_handler(msg);\n            return messages.next().then(processIteratorResult);\n          }\n          return messages.next().then(processIteratorResult);\n        })\n      }\n    }\n\n    JupyterCommManager.prototype.get_client_comm = function(plot_id, comm_id, msg_handler) {\n      if (comm_id in window.PyViz.comms) {\n        return window.PyViz.comms[comm_id];\n      } else if (window.comm_manager || ((window.Jupyter !== undefined) && (Jupyter.notebook.kernel != null))) {\n        var comm_manager = window.comm_manager || Jupyter.notebook.kernel.comm_manager;\n        var comm = comm_manager.new_comm(comm_id, {}, {}, {}, comm_id);\n        if (msg_handler) {\n          comm.on_msg(msg_handler);\n        }\n      } else if ((plot_id in window.PyViz.kernels) && (window.PyViz.kernels[plot_id])) {\n        var comm = window.PyViz.kernels[plot_id].connectToComm(comm_id);\n        comm.open();\n        if (msg_handler) {\n          comm.onMsg = msg_handler;\n        }\n      } else if (typeof google != 'undefined' && google.colab.kernel != null) {\n        var comm_promise = google.colab.kernel.comms.open(comm_id)\n        comm_promise.then((comm) => {\n          window.PyViz.comms[comm_id] = comm;\n          if (msg_handler) {\n            var messages = comm.messages[Symbol.asyncIterator]();\n            function processIteratorResult(result) {\n              var message = result.value;\n              var content = {data: message.data};\n              var metadata = message.metadata || {comm_id};\n              var msg = {content, metadata}\n              msg_handler(msg);\n              return messages.next().then(processIteratorResult);\n            }\n            return messages.next().then(processIteratorResult);\n          }\n        }) \n        var sendClosure = (data, metadata, buffers, disposeOnDone) => {\n          return comm_promise.then((comm) => {\n            comm.send(data, metadata, buffers, disposeOnDone);\n          });\n        };\n        var comm = {\n          send: sendClosure\n        };\n      }\n      window.PyViz.comms[comm_id] = comm;\n      return comm;\n    }\n    window.PyViz.comm_manager = new JupyterCommManager();\n    \n\n\nvar JS_MIME_TYPE = 'application/javascript';\nvar HTML_MIME_TYPE = 'text/html';\nvar EXEC_MIME_TYPE = 'application/vnd.holoviews_exec.v0+json';\nvar CLASS_NAME = 'output';\n\n/**\n * Render data to the DOM node\n */\nfunction render(props, node) {\n  var div = document.createElement(\"div\");\n  var script = document.createElement(\"script\");\n  node.appendChild(div);\n  node.appendChild(script);\n}\n\n/**\n * Handle when a new output is added\n */\nfunction handle_add_output(event, handle) {\n  var output_area = handle.output_area;\n  var output = handle.output;\n  if ((output.data == undefined) || (!output.data.hasOwnProperty(EXEC_MIME_TYPE))) {\n    return\n  }\n  var id = output.metadata[EXEC_MIME_TYPE][\"id\"];\n  var toinsert = output_area.element.find(\".\" + CLASS_NAME.split(' ')[0]);\n  if (id !== undefined) {\n    var nchildren = toinsert.length;\n    var html_node = toinsert[nchildren-1].children[0];\n    html_node.innerHTML = output.data[HTML_MIME_TYPE];\n    var scripts = [];\n    var nodelist = html_node.querySelectorAll(\"script\");\n    for (var i in nodelist) {\n      if (nodelist.hasOwnProperty(i)) {\n        scripts.push(nodelist[i])\n      }\n    }\n\n    scripts.forEach( function (oldScript) {\n      var newScript = document.createElement(\"script\");\n      var attrs = [];\n      var nodemap = oldScript.attributes;\n      for (var j in nodemap) {\n        if (nodemap.hasOwnProperty(j)) {\n          attrs.push(nodemap[j])\n        }\n      }\n      attrs.forEach(function(attr) { newScript.setAttribute(attr.name, attr.value) });\n      newScript.appendChild(document.createTextNode(oldScript.innerHTML));\n      oldScript.parentNode.replaceChild(newScript, oldScript);\n    });\n    if (JS_MIME_TYPE in output.data) {\n      toinsert[nchildren-1].children[1].textContent = output.data[JS_MIME_TYPE];\n    }\n    output_area._hv_plot_id = id;\n    if ((window.Bokeh !== undefined) && (id in Bokeh.index)) {\n      window.PyViz.plot_index[id] = Bokeh.index[id];\n    } else {\n      window.PyViz.plot_index[id] = null;\n    }\n  } else if (output.metadata[EXEC_MIME_TYPE][\"server_id\"] !== undefined) {\n    var bk_div = document.createElement(\"div\");\n    bk_div.innerHTML = output.data[HTML_MIME_TYPE];\n    var script_attrs = bk_div.children[0].attributes;\n    for (var i = 0; i < script_attrs.length; i++) {\n      toinsert[toinsert.length - 1].childNodes[1].setAttribute(script_attrs[i].name, script_attrs[i].value);\n    }\n    // store reference to server id on output_area\n    output_area._bokeh_server_id = output.metadata[EXEC_MIME_TYPE][\"server_id\"];\n  }\n}\n\n/**\n * Handle when an output is cleared or removed\n */\nfunction handle_clear_output(event, handle) {\n  var id = handle.cell.output_area._hv_plot_id;\n  var server_id = handle.cell.output_area._bokeh_server_id;\n  if (((id === undefined) || !(id in PyViz.plot_index)) && (server_id !== undefined)) { return; }\n  var comm = window.PyViz.comm_manager.get_client_comm(\"hv-extension-comm\", \"hv-extension-comm\", function () {});\n  if (server_id !== null) {\n    comm.send({event_type: 'server_delete', 'id': server_id});\n    return;\n  } else if (comm !== null) {\n    comm.send({event_type: 'delete', 'id': id});\n  }\n  delete PyViz.plot_index[id];\n  if ((window.Bokeh !== undefined) & (id in window.Bokeh.index)) {\n    var doc = window.Bokeh.index[id].model.document\n    doc.clear();\n    const i = window.Bokeh.documents.indexOf(doc);\n    if (i > -1) {\n      window.Bokeh.documents.splice(i, 1);\n    }\n  }\n}\n\n/**\n * Handle kernel restart event\n */\nfunction handle_kernel_cleanup(event, handle) {\n  delete PyViz.comms[\"hv-extension-comm\"];\n  window.PyViz.plot_index = {}\n}\n\n/**\n * Handle update_display_data messages\n */\nfunction handle_update_output(event, handle) {\n  handle_clear_output(event, {cell: {output_area: handle.output_area}})\n  handle_add_output(event, handle)\n}\n\nfunction register_renderer(events, OutputArea) {\n  function append_mime(data, metadata, element) {\n    // create a DOM node to render to\n    var toinsert = this.create_output_subarea(\n    metadata,\n    CLASS_NAME,\n    EXEC_MIME_TYPE\n    );\n    this.keyboard_manager.register_events(toinsert);\n    // Render to node\n    var props = {data: data, metadata: metadata[EXEC_MIME_TYPE]};\n    render(props, toinsert[0]);\n    element.append(toinsert);\n    return toinsert\n  }\n\n  events.on('output_added.OutputArea', handle_add_output);\n  events.on('output_updated.OutputArea', handle_update_output);\n  events.on('clear_output.CodeCell', handle_clear_output);\n  events.on('delete.Cell', handle_clear_output);\n  events.on('kernel_ready.Kernel', handle_kernel_cleanup);\n\n  OutputArea.prototype.register_mime_type(EXEC_MIME_TYPE, append_mime, {\n    safe: true,\n    index: 0\n  });\n}\n\nif (window.Jupyter !== undefined) {\n  try {\n    var events = require('base/js/events');\n    var OutputArea = require('notebook/js/outputarea').OutputArea;\n    if (OutputArea.prototype.mime_types().indexOf(EXEC_MIME_TYPE) == -1) {\n      register_renderer(events, OutputArea);\n    }\n  } catch(err) {\n  }\n}\n",
            "application/vnd.holoviews_load.v0+json": ""
          },
          "metadata": {},
          "output_type": "display_data"
        },
        {
          "data": {
            "text/html": [
              "<style>*[data-root-id],\n",
              "*[data-root-id] > * {\n",
              "  box-sizing: border-box;\n",
              "  font-family: var(--jp-ui-font-family);\n",
              "  font-size: var(--jp-ui-font-size1);\n",
              "  color: var(--vscode-editor-foreground, var(--jp-ui-font-color1));\n",
              "}\n",
              "\n",
              "/* Override VSCode background color */\n",
              ".cell-output-ipywidget-background:has(\n",
              "    > .cell-output-ipywidget-background > .lm-Widget > *[data-root-id]\n",
              "  ),\n",
              ".cell-output-ipywidget-background:has(> .lm-Widget > *[data-root-id]) {\n",
              "  background-color: transparent !important;\n",
              "}\n",
              "</style>"
            ]
          },
          "metadata": {},
          "output_type": "display_data"
        }
      ],
      "source": [
        "import holoviews as hv\n",
        "import hvplot.pandas"
      ]
    },
    {
      "cell_type": "markdown",
      "id": "ef932c0f-a3a8-4481-94bf-21c2e609566a",
      "metadata": {},
      "source": [
        "## Plot the precpitation column (PRCP) vs time to explore the data\n",
        "\n",
        "Plotting in Python is easy, but not quite this easy:"
      ]
    },
    {
      "cell_type": "code",
      "execution_count": 3,
      "id": "b4227691",
      "metadata": {
        "template": "student"
      },
      "outputs": [
        {
          "data": {
            "text/plain": [
              "<Axes: xlabel='DATE'>"
            ]
          },
          "execution_count": 3,
          "metadata": {},
          "output_type": "execute_result"
        },
        {
          "data": {
            "image/png": "[encoded data removed]",
            "text/plain": [
              "<Figure size 640x480 with 1 Axes>"
            ]
          },
          "metadata": {},
          "output_type": "display_data"
        }
      ],
      "source": [
        "climate_df.plot()"
      ]
    },
    {
      "cell_type": "markdown",
      "id": "f1cc5ab6-60d6-4289-ba80-44eeca351a76",
      "metadata": {},
      "source": [
        "Looks like we have *both* precipitation and temperature on the same\n",
        "plot, and it’s hard to see what it is because it’s missing labels!\n",
        "\n",
        "> ****Label your plot****\n",
        ">\n",
        "> <figure>\n",
        "> <img src=\"https://imgs.xkcd.com/comics/convincing.png\"\n",
        "> alt=\"Source: https://xkcd.com/833\" />\n",
        "> <figcaption aria-hidden=\"true\">Source: https://xkcd.com/833</figcaption>\n",
        "> </figure>\n",
        ">\n",
        "> Make sure each plot has:\n",
        ">\n",
        "> -   A title that explains where and when the data are from\n",
        "> -   x- and y- axis labels with **units** where appropriate\n",
        "> -   A legend where appropriate\n",
        "\n",
        "When plotting in Python, you’ll always need to add some instructions on\n",
        "labels and how you want your plot to look.\n",
        "\n",
        "<link rel=\"stylesheet\" type=\"text/css\" href=\"./assets/styles.css\"><div class=\"callout callout-style-default callout-titled callout-task\"><div class=\"callout-header\"><div class=\"callout-icon-container\"><i class=\"callout-icon\"></i></div><div class=\"callout-title-container flex-fill\">Try It: Plot your data</div></div><div class=\"callout-body-container callout-body\"><ol type=\"1\">\n",
        "<li>Change <code>dataframe</code> to <strong>your</strong>\n",
        "<code>DataFrame</code> name.</li>\n",
        "<li>Change <code>y=</code> to the name of your <strong>observed\n",
        "temperature</strong> column name.</li>\n",
        "<li>Use the <code>title</code>, <code>ylabel</code>, and\n",
        "<code>xlabel</code> parameters to add key text to your plot.</li>\n",
        "<li>Adjust the size of your figure using <code>figsize=(x,y)</code>\n",
        "where <code>x</code> is figure width and <code>y</code> is figure\n",
        "height</li>\n",
        "</ol>\n",
        "<blockquote>\n",
        "<p><strong>HINT:</strong> labels have to be a <em>type</em> in Python\n",
        "called a <strong>string</strong>. You can make a string by putting\n",
        "quotes around your label, just like the column names in the sample code\n",
        "(eg <code>y='TOBS'</code>).</p>\n",
        "</blockquote></div></div>"
      ]
    },
    {
      "cell_type": "code",
      "execution_count": 4,
      "id": "a1378b6d",
      "metadata": {
        "template": "student"
      },
      "outputs": [],
      "source": [
        "# Plot the data using .plot\n",
        "climate_df.plot(\n",
        "    y='PRCP',\n",
        "    title='Title Goes Here',\n",
        "    xlabel='Horizontal Axis Label Goes Here',\n",
        "    ylabel='Vertical Axis Label Goes Here')"
      ]
    },
    {
      "cell_type": "markdown",
      "id": "06764365-a1f5-40a7-8034-f04bc4ec77de",
      "metadata": {},
      "source": [
        "<link rel=\"stylesheet\" type=\"text/css\" href=\"./assets/styles.css\"><div class=\"callout callout-style-default callout-titled callout-extra\"><div class=\"callout-header\"><div class=\"callout-icon-container\"><i class=\"callout-icon\"></i></div><div class=\"callout-title-container flex-fill\">Looking for an Extra Challenge?</div></div><div class=\"callout-body-container callout-body\"><p>There are many other things you can do to customize your plot. Take a\n",
        "look at the <a\n",
        "href=\"https://pandas.pydata.org/docs/user_guide/visualization.html\">pandas\n",
        "plotting galleries</a> and the <a\n",
        "href=\"https://pandas.pydata.org/docs/reference/api/pandas.DataFrame.plot.html\">documentation\n",
        "of plot</a> to see if there’s other changes you want to make to your\n",
        "plot. Some possibilities include:</p>\n",
        "<ul>\n",
        "<li>Remove the legend since there’s only one data series</li>\n",
        "<li>Increase the figure size</li>\n",
        "<li>Increase the font size</li>\n",
        "<li>Change the colors</li>\n",
        "<li>Use a bar graph instead (usually we use lines for time series, but\n",
        "since this is annual it could go either way)</li>\n",
        "<li>Add a trend line</li>\n",
        "</ul>\n",
        "<p>Not sure how to do any of these? Try searching the internet, or\n",
        "asking an AI!</p></div></div>\n",
        "\n",
        "## Clean up time series plots by resampling\n",
        "\n",
        "You may notice that your plot looks a little “fuzzy”. This happens when\n",
        "Python is trying to plot a value for every date, but the resolution of\n",
        "the image is too low to actually do that. You can address this issue by\n",
        "**resampling** the data, or summarizing it over a time period of your\n",
        "choice. In this case, we will resample annually, giving us one data\n",
        "point per year.\n",
        "\n",
        "<link rel=\"stylesheet\" type=\"text/css\" href=\"./assets/styles.css\"><div class=\"callout callout-style-default callout-titled callout-task\"><div class=\"callout-header\"><div class=\"callout-icon-container\"><i class=\"callout-icon\"></i></div><div class=\"callout-title-container flex-fill\">Try It: Resample</div></div><div class=\"callout-body-container callout-body\"><ol type=\"1\">\n",
        "<li>Set the frequency of your final data by replacing\n",
        "<code>DT_OFFSET</code>with a <strong>Datetime Offset Code</strong>.\n",
        "Check out the table in the <a\n",
        "href=\"https://pandas.pydata.org/pandas-docs/stable/user_guide/timeseries.html#dateoffset-objects\">pandas\n",
        "datetime documentation</a> to find the one you want (we recommend the\n",
        "start of the year).</li>\n",
        "<li>Choose how to summarize each year of data by replacing\n",
        "<code>agg_method_here</code> with a method that will calculate the\n",
        "<strong>average annual value</strong>. Check out the <a\n",
        "href=\"https://pandas.pydata.org/pandas-docs/stable/user_guide/timeseries.html#basics\">pandas\n",
        "resampling documentation</a> for a list of common built-in options.</li>\n",
        "</ol></div></div>"
      ]
    },
    {
      "cell_type": "code",
      "execution_count": 6,
      "id": "8f52fbc4",
      "metadata": {
        "template": "student"
      },
      "outputs": [],
      "source": [
        "ann_climate_df = climate_df.resample('DT_OFFSET').agg_method_here()\n",
        "ann_climate_df"
      ]
    },
    {
      "cell_type": "markdown",
      "id": "12bf0d69-8bfd-48f5-b76f-7827504ed784",
      "metadata": {},
      "source": [
        "<link rel=\"stylesheet\" type=\"text/css\" href=\"./assets/styles.css\"><div class=\"callout callout-style-default callout-titled callout-task\"><div class=\"callout-header\"><div class=\"callout-icon-container\"><i class=\"callout-icon\"></i></div><div class=\"callout-title-container flex-fill\">Try It: Plot Annual Data</div></div><div class=\"callout-body-container callout-body\"><ol type=\"1\">\n",
        "<li>Try plotting your new DataFrame in the cell below. Can you see what\n",
        "is going on more clearly now? Don’t forget to adjust your labels!</li>\n",
        "</ol></div></div>"
      ]
    },
    {
      "cell_type": "code",
      "execution_count": 8,
      "id": "22a823d6",
      "metadata": {
        "template": "student"
      },
      "outputs": [],
      "source": [
        "# Plot the annual data"
      ]
    },
    {
      "cell_type": "markdown",
      "id": "9da60a12-6ece-4043-8870-5a3d0388c494",
      "metadata": {},
      "source": [
        "<link rel=\"stylesheet\" type=\"text/css\" href=\"./assets/styles.css\"><div class=\"callout callout-style-default callout-titled callout-respond\"><div class=\"callout-header\"><div class=\"callout-icon-container\"><i class=\"callout-icon\"></i></div><div class=\"callout-title-container flex-fill\">Reflect and Respond: Interpret your plot</div></div><div class=\"callout-body-container callout-body\"><ol type=\"1\">\n",
        "<li><p>Create a new Markdown cell below this one.</p></li>\n",
        "<li><p>In the new cell, answer the following questions using a\n",
        "<strong>bulleted list</strong> in Markdown – what are 2 things you\n",
        "notice about this data? What physical phenomena or data anomaly could be\n",
        "causing each one?</p></li>\n",
        "</ol>\n",
        "<div data-__quarto_custom=\"true\"\n",
        "data-__quarto_custom_type=\"ConditionalBlock\"\n",
        "data-__quarto_custom_context=\"Block\" data-__quarto_custom_id=\"6\">\n",
        "<div data-__quarto_custom_scaffold=\"true\">\n",
        "<div>\n",
        "\n",
        "</div>\n",
        "</div>\n",
        "</div></div></div>"
      ]
    },
    {
      "cell_type": "markdown",
      "id": "de00a236-e176-4362-88c0-a2e8de9f8517",
      "metadata": {},
      "source": [
        "## Check specific values with an interactive plot\n",
        "\n",
        "You can use the `.hvplot()` method with similar arguments to create an\n",
        "interactive plot.\n",
        "\n",
        "<link rel=\"stylesheet\" type=\"text/css\" href=\"./assets/styles.css\"><div class=\"callout callout-style-default callout-titled callout-task\"><div class=\"callout-header\"><div class=\"callout-icon-container\"><i class=\"callout-icon\"></i></div><div class=\"callout-title-container flex-fill\">Try It: Interactive Plot</div></div><div class=\"callout-body-container callout-body\"><ol type=\"1\">\n",
        "<li>Copy your plotting code into the cell below.</li>\n",
        "<li>Replace <code>.plot</code> in your code with\n",
        "<code>.hvplot</code></li>\n",
        "</ol>\n",
        "<p>Now, you should be able to hover over data points and see their\n",
        "values!</p></div></div>"
      ]
    },
    {
      "cell_type": "code",
      "execution_count": 10,
      "id": "4bff67b5",
      "metadata": {
        "template": "student"
      },
      "outputs": [],
      "source": [
        "# Plot the annual data interactively"
      ]
    },
    {
      "cell_type": "markdown",
      "id": "fdc24928-65f1-4176-b8f9-eacca630730f",
      "metadata": {},
      "source": [
        "<link rel=\"stylesheet\" type=\"text/css\" href=\"./assets/styles.css\"><div class=\"callout callout-style-default callout-titled callout-task\"><div class=\"callout-header\"><div class=\"callout-icon-container\"><i class=\"callout-icon\"></i></div><div class=\"callout-title-container flex-fill\">Try It: Explore the data</div></div><div class=\"callout-body-container callout-body\"><ol type=\"1\">\n",
        "<li><p>Create a new Markdown cell below this one.</p></li>\n",
        "<li><p>Hover over the lowest point on your plot. What is the overall\n",
        "minimum annual average temperature?</p></li>\n",
        "</ol></div></div>"
      ]
    },
    {
      "cell_type": "markdown",
      "id": "42513d90-2d8a-4c42-a1bc-a66194d8951e",
      "metadata": {},
      "source": [
        "## BONUS: Save your work\n",
        "\n",
        "You will need to save your analyses and plots to tell others about what\n",
        "you find.\n",
        "\n",
        "<link rel=\"stylesheet\" type=\"text/css\" href=\"./assets/styles.css\"><div class=\"callout callout-style-default callout-titled callout-task\"><div class=\"callout-header\"><div class=\"callout-icon-container\"><i class=\"callout-icon\"></i></div><div class=\"callout-title-container flex-fill\">Try It: Save Your Plot</div></div><div class=\"callout-body-container callout-body\"><p>Just like with any other type of object in Python, if you want to\n",
        "reuse your work, you need to give it a name.</p>\n",
        "<ol type=\"1\">\n",
        "<li>Go back to your <code>hvplot</code> code, and give your plot a name\n",
        "by assigning it to a variable. HINT: if you still want your plot to\n",
        "display in your notebook, make sure to <strong>call</strong> its name at\n",
        "the end of the cell.</li>\n",
        "<li>Replace <code>my_plot</code> with the name you gave to your\n",
        "plot.</li>\n",
        "<li>Replace <code>'my_plot.html'</code> with the name you want for your\n",
        "plot. If you change the file extension, <code>.html</code>, to\n",
        "<code>.png</code>, you will get an image instead of an interactive\n",
        "webpage, provided you have the necessary libraries installed.</li>\n",
        "</ol>\n",
        "<p>Once you run the code, you should see your saved plot in your files –\n",
        "go ahead and open it up.</p>\n",
        "<div data-__quarto_custom=\"true\" data-__quarto_custom_type=\"Callout\"\n",
        "data-__quarto_custom_context=\"Block\" data-__quarto_custom_id=\"8\">\n",
        "<div data-__quarto_custom_scaffold=\"true\">\n",
        "\n",
        "</div>\n",
        "<div data-__quarto_custom_scaffold=\"true\">\n",
        "<p>You may need to right-click on your file and download it to be able\n",
        "to view it.</p>\n",
        "</div>\n",
        "</div></div></div>"
      ]
    },
    {
      "cell_type": "code",
      "execution_count": 12,
      "id": "3ca1b32d",
      "metadata": {
        "template": "student"
      },
      "outputs": [],
      "source": [
        "hv.save(my_plot, 'my_plot.html')"
      ]
    },
    {
      "cell_type": "code",
      "execution_count": 14,
      "id": "12175da4",
      "metadata": {},
      "outputs": [],
      "source": [
        "%store ann_climate_df"
      ]
    }
  ],
  "metadata": {
    "kernelspec": {
      "display_name": "Python 3 (ipykernel)",
      "language": "python",
      "name": "python3"
    },
    "language_info": {
      "codemirror_mode": {
        "name": "ipython",
        "version": 3
      },
      "file_extension": ".py",
      "mimetype": "text/x-python",
      "name": "python",
      "nbconvert_exporter": "python",
      "pygments_lexer": "ipython3",
      "version": "3.10.11"
    }
  },
  "nbformat": 4,
  "nbformat_minor": 5
}
